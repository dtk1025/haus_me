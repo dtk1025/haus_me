{
  "nbformat": 4,
  "nbformat_minor": 0,
  "metadata": {
    "colab": {
      "name": "haus_me-notebook.ipynb",
      "provenance": [],
      "authorship_tag": "ABX9TyMpEgh34vyBk6iwOXzzcCVC",
      "include_colab_link": true
    },
    "kernelspec": {
      "name": "python3",
      "display_name": "Python 3"
    },
    "language_info": {
      "name": "python"
    }
  },
  "cells": [
    {
      "cell_type": "markdown",
      "metadata": {
        "id": "view-in-github",
        "colab_type": "text"
      },
      "source": [
        "<a href=\"https://colab.research.google.com/github/dtk1025/haus_me/blob/main/haus_me_notebook.ipynb\" target=\"_parent\"><img src=\"https://colab.research.google.com/assets/colab-badge.svg\" alt=\"Open In Colab\"/></a>"
      ]
    },
    {
      "cell_type": "markdown",
      "source": [
        "##Ingest\n"
      ],
      "metadata": {
        "id": "y8XEDIP-Zlq-"
      }
    },
    {
      "cell_type": "code",
      "execution_count": null,
      "metadata": {
        "id": "Co9Swm9nZN7R"
      },
      "outputs": [],
      "source": [
        "1 "
      ]
    },
    {
      "cell_type": "markdown",
      "source": [
        "## EDA"
      ],
      "metadata": {
        "id": "8avGnsRwZqtI"
      }
    },
    {
      "cell_type": "code",
      "source": [
        "1"
      ],
      "metadata": {
        "id": "GQcKGSSrZyDf"
      },
      "execution_count": null,
      "outputs": []
    },
    {
      "cell_type": "markdown",
      "source": [
        "##Modeling"
      ],
      "metadata": {
        "id": "_D3FG3ntZtQD"
      }
    },
    {
      "cell_type": "markdown",
      "source": [
        "###classification algorithm "
      ],
      "metadata": {
        "id": "TjZkQ18NaKrR"
      }
    },
    {
      "cell_type": "markdown",
      "source": [
        "classification algorithm b"
      ],
      "metadata": {
        "id": "x7mJQIJGaToX"
      }
    },
    {
      "cell_type": "markdown",
      "source": [
        ""
      ],
      "metadata": {
        "id": "8ilofopZaN1b"
      }
    },
    {
      "cell_type": "code",
      "source": [
        "1"
      ],
      "metadata": {
        "id": "KGdSOHtdaFnC"
      },
      "execution_count": null,
      "outputs": []
    },
    {
      "cell_type": "markdown",
      "source": [
        "##Conclusion:"
      ],
      "metadata": {
        "id": "Gvwsi6wZZuOs"
      }
    },
    {
      "cell_type": "code",
      "source": [
        "1"
      ],
      "metadata": {
        "id": "swPIXHafZyXS"
      },
      "execution_count": null,
      "outputs": []
    }
  ]
}