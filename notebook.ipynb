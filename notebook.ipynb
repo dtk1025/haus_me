from myrepolib import repomod
repomod.myfunc()
